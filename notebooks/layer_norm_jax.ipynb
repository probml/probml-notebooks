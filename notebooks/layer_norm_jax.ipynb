{
  "nbformat": 4,
  "nbformat_minor": 0,
  "metadata": {
    "colab": {
      "name": "layer_norm_jax.ipynb",
      "provenance": [],
      "collapsed_sections": []
    },
    "kernelspec": {
      "name": "python3",
      "display_name": "Python 3"
    },
    "language_info": {
      "name": "python"
    }
  },
  "cells": [
    {
      "cell_type": "markdown",
      "source": [
        "<a href=\"https://colab.research.google.com/drive/1rGuL4bDUNdgzBHAEUJHZhVEnesRG7Hy8?usp=sharing\">\n",
        "  <img src=\"https://colab.research.google.com/assets/colab-badge.svg\" alt=\"Open In Colab\"/>\n",
        "</a>"
      ],
      "metadata": {
        "id": "tvzBIWb4RQCj"
      }
    },
    {
      "cell_type": "markdown",
      "source": [
        "**Author Of the Notebook : Susnato Dhar (Github Link : https://github.com/susnato)**\n",
        "\n",
        "\n",
        "This Notebook is a converted from PyTorch to JAX compatible from this original notebook <a href=\"https://github.com/probml/probml-notebooks/blob/main/notebooks/layer_norm_torch.ipynb\">here</a>."
      ],
      "metadata": {
        "id": "Nlvewn86QnjM"
      }
    },
    {
      "cell_type": "code",
      "source": [
        "!pip install flax -q"
      ],
      "metadata": {
        "colab": {
          "base_uri": "https://localhost:8080/"
        },
        "id": "IsKzYISCHqiv",
        "outputId": "69bfb7d1-9230-4416-f5c8-67b86b81b29b"
      },
      "execution_count": 1,
      "outputs": [
        {
          "output_type": "stream",
          "name": "stdout",
          "text": [
            "\u001b[?25l\r\u001b[K     |█▉                              | 10 kB 20.6 MB/s eta 0:00:01\r\u001b[K     |███▋                            | 20 kB 26.7 MB/s eta 0:00:01\r\u001b[K     |█████▍                          | 30 kB 30.8 MB/s eta 0:00:01\r\u001b[K     |███████▏                        | 40 kB 33.6 MB/s eta 0:00:01\r\u001b[K     |█████████                       | 51 kB 25.7 MB/s eta 0:00:01\r\u001b[K     |██████████▊                     | 61 kB 27.9 MB/s eta 0:00:01\r\u001b[K     |████████████▌                   | 71 kB 28.6 MB/s eta 0:00:01\r\u001b[K     |██████████████▎                 | 81 kB 28.9 MB/s eta 0:00:01\r\u001b[K     |████████████████                | 92 kB 30.6 MB/s eta 0:00:01\r\u001b[K     |█████████████████▉              | 102 kB 32.5 MB/s eta 0:00:01\r\u001b[K     |███████████████████▋            | 112 kB 32.5 MB/s eta 0:00:01\r\u001b[K     |█████████████████████▍          | 122 kB 32.5 MB/s eta 0:00:01\r\u001b[K     |███████████████████████▏        | 133 kB 32.5 MB/s eta 0:00:01\r\u001b[K     |█████████████████████████       | 143 kB 32.5 MB/s eta 0:00:01\r\u001b[K     |██████████████████████████▊     | 153 kB 32.5 MB/s eta 0:00:01\r\u001b[K     |████████████████████████████▌   | 163 kB 32.5 MB/s eta 0:00:01\r\u001b[K     |██████████████████████████████▎ | 174 kB 32.5 MB/s eta 0:00:01\r\u001b[K     |████████████████████████████████| 184 kB 32.5 MB/s \n",
            "\u001b[K     |████████████████████████████████| 136 kB 47.2 MB/s \n",
            "\u001b[K     |████████████████████████████████| 70 kB 8.4 MB/s \n",
            "\u001b[?25h"
          ]
        }
      ]
    },
    {
      "cell_type": "code",
      "source": [
        "import jax\n",
        "import jax.numpy as jnp\n",
        "import jax.random as jrand\n",
        "from flax import linen as nn"
      ],
      "metadata": {
        "id": "JmPsrNLXHpII"
      },
      "execution_count": 2,
      "outputs": []
    },
    {
      "cell_type": "code",
      "source": [
        "key = jrand.PRNGKey(42)"
      ],
      "metadata": {
        "colab": {
          "base_uri": "https://localhost:8080/"
        },
        "id": "jfNo31BzISh0",
        "outputId": "8aecfb1a-fdf0-42de-c52a-b462660f356e"
      },
      "execution_count": 3,
      "outputs": [
        {
          "output_type": "stream",
          "name": "stderr",
          "text": [
            "WARNING:absl:No GPU/TPU found, falling back to CPU. (Set TF_CPP_MIN_LOG_LEVEL=0 and rerun for more info.)\n"
          ]
        }
      ]
    },
    {
      "cell_type": "code",
      "source": [
        "# batch size 3, feature size 2\n",
        "X = jnp.array([[1, 2, 3], [4, 5, 6]])\n",
        "\n",
        "print('batch norm')\n",
        "mu_batch = jnp.mean(X,axis=0)\n",
        "sigma_batch = jnp.std(X,axis=0)\n",
        "XBN = (X-mu_batch)/sigma_batch\n",
        "print(XBN)\n",
        "\n",
        "print('layer norm')\n",
        "mu_layer = jnp.expand_dims(jnp.mean(X,axis=1),axis=1)\n",
        "sigma_layer = jnp.expand_dims(jnp.std(X,axis=1), axis=1)\n",
        "XLN = (X-mu_layer)/sigma_layer\n",
        "print(XLN)"
      ],
      "metadata": {
        "colab": {
          "base_uri": "https://localhost:8080/"
        },
        "id": "Wh4BtTX3I0B6",
        "outputId": "a7e690aa-cede-4d49-928d-952a84f2c4bd"
      },
      "execution_count": 4,
      "outputs": [
        {
          "output_type": "stream",
          "name": "stdout",
          "text": [
            "batch norm\n",
            "[[-1. -1. -1.]\n",
            " [ 1.  1.  1.]]\n",
            "layer norm\n",
            "[[-1.2247448  0.         1.2247448]\n",
            " [-1.2247448  0.         1.2247448]]\n"
          ]
        }
      ]
    },
    {
      "cell_type": "code",
      "source": [
        "from flax import linen as nn\n",
        "\n",
        "N, D = X.shape\n",
        "\n",
        "ln = nn.LayerNorm()\n",
        "bn = nn.BatchNorm(use_running_average=False, momentum=0.1, epsilon=1e-5,)\n",
        "\n",
        "print('batch norm')\n",
        "bn_vars = bn.init(key, X)\n",
        "XBN_t, mutated_vars = bn.apply(bn_vars, X, mutable=['batch_stats'])\n",
        "print(XBN_t)\n",
        "assert(jnp.allclose(XBN_t, XBN, atol=1e-3))\n",
        "\n",
        "print('layer norm')\n",
        "ln_vars = ln.init(key, X)\n",
        "XLN_t = ln.apply(ln_vars, X)\n",
        "print(XLN_t)\n",
        "assert(jnp.allclose(XLN_t, XLN, atol=1e-3))\n"
      ],
      "metadata": {
        "colab": {
          "base_uri": "https://localhost:8080/"
        },
        "id": "FMqnoi-LHLNu",
        "outputId": "917e02b9-7989-459c-b1b0-5bf02c9e4002"
      },
      "execution_count": 5,
      "outputs": [
        {
          "output_type": "stream",
          "name": "stdout",
          "text": [
            "batch norm\n",
            "[[-0.9999978 -0.9999978 -0.9999978]\n",
            " [ 0.9999978  0.9999978  0.9999978]]\n",
            "layer norm\n",
            "[[-1.2247437  0.         1.2247437]\n",
            " [-1.2247428  0.         1.2247428]]\n"
          ]
        }
      ]
    },
    {
      "cell_type": "code",
      "source": [
        ""
      ],
      "metadata": {
        "id": "leC9nkX-QES5"
      },
      "execution_count": null,
      "outputs": []
    }
  ]
}