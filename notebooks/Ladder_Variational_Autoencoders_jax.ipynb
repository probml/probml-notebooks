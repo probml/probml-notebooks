{
  "cells": [
    {
      "cell_type": "markdown",
      "source": [
        "<a href=\"https://colab.research.google.com/drive/11mGSvbrNkfQl6WNODZ44vU40wEP1XhGX?usp=sharing\">\n",
        "  <img src=\"https://colab.research.google.com/assets/colab-badge.svg\" alt=\"Open In Colab\"/>\n",
        "</a>"
      ],
      "metadata": {
        "id": "YVMADlnmUcBl"
      }
    },
    {
      "cell_type": "markdown",
      "source": [
        "**Author of this Notebook** : Susnato Dhar (Github : https://github.com/susnato)"
      ],
      "metadata": {
        "id": "RFts_QA3lB4h"
      }
    },
    {
      "cell_type": "markdown",
      "source": [
        "<ul>\n",
        "<li>In this notebook I have implemented Ladder Variational Autoencoders in JAX to generate Mnist Fashion Images from random normal distributions, you can use this notebook to generate more advanced images but for that you might have to modify the final_layer and also fine tune the hyperparameters.</li>\n",
        "\n",
        "<li>Since Colab does not allow us to train for longer, so I used larger batch_sizes and higher learning_rate, if you want better results then you might have to train for longer with lower batch_sizes and with a learning_rate decay.</li>\n",
        "</ul>"
      ],
      "metadata": {
        "id": "spzHregglsiV"
      }
    },
    {
      "cell_type": "markdown",
      "source": [
        "# Installing Requirements and Imports "
      ],
      "metadata": {
        "id": "qrbzJR94HWQ9"
      }
    },
    {
      "cell_type": "code",
      "source": [
        "!pip install flax -q"
      ],
      "metadata": {
        "id": "TjMqTo19HHRS",
        "colab": {
          "base_uri": "https://localhost:8080/"
        },
        "outputId": "918222ea-f049-4f23-8170-3529788bb5db"
      },
      "execution_count": 2,
      "outputs": [
        {
          "output_type": "stream",
          "name": "stdout",
          "text": [
            "\u001b[K     |████████████████████████████████| 184 kB 5.3 MB/s \n",
            "\u001b[K     |████████████████████████████████| 140 kB 45.3 MB/s \n",
            "\u001b[K     |████████████████████████████████| 72 kB 447 kB/s \n",
            "\u001b[?25h"
          ]
        }
      ]
    },
    {
      "cell_type": "code",
      "source": [
        "import jax\n",
        "import flax\n",
        "import flax.linen as nn\n",
        "import jax.numpy as jnp\n",
        "import jax.random as jrand\n",
        "\n",
        "key = jrand.PRNGKey(42)"
      ],
      "metadata": {
        "id": "IZ5xRCnzt666"
      },
      "execution_count": 3,
      "outputs": []
    },
    {
      "cell_type": "markdown",
      "source": [
        "# Load the Data and Make a DataSet"
      ],
      "metadata": {
        "id": "zsQJnvYTAFug"
      }
    },
    {
      "cell_type": "code",
      "execution_count": 4,
      "metadata": {
        "colab": {
          "base_uri": "https://localhost:8080/"
        },
        "id": "uxCou8Oysv2a",
        "outputId": "e51dd1b9-cb11-4436-facc-7cc203f45ea1"
      },
      "outputs": [
        {
          "output_type": "stream",
          "name": "stdout",
          "text": [
            "Downloading data from https://storage.googleapis.com/tensorflow/tf-keras-datasets/train-labels-idx1-ubyte.gz\n",
            "32768/29515 [=================================] - 0s 0us/step\n",
            "40960/29515 [=========================================] - 0s 0us/step\n",
            "Downloading data from https://storage.googleapis.com/tensorflow/tf-keras-datasets/train-images-idx3-ubyte.gz\n",
            "26427392/26421880 [==============================] - 0s 0us/step\n",
            "26435584/26421880 [==============================] - 0s 0us/step\n",
            "Downloading data from https://storage.googleapis.com/tensorflow/tf-keras-datasets/t10k-labels-idx1-ubyte.gz\n",
            "16384/5148 [===============================================================================================] - 0s 0us/step\n",
            "Downloading data from https://storage.googleapis.com/tensorflow/tf-keras-datasets/t10k-images-idx3-ubyte.gz\n",
            "4423680/4422102 [==============================] - 0s 0us/step\n",
            "4431872/4422102 [==============================] - 0s 0us/step\n",
            "(60000, 28, 28, 1) (60000,) (10000, 28, 28, 1) (10000,)\n"
          ]
        }
      ],
      "source": [
        "import tensorflow as tf\n",
        "\n",
        "data = tf.keras.datasets.fashion_mnist.load_data()\n",
        "(x_train, y_train), (x_test, y_test) = data\n",
        "x_train = x_train/255.0\n",
        "x_test = x_test/255.0\n",
        "\n",
        "x_train = x_train.reshape(-1, 28, 28, 1)\n",
        "x_test = x_test.reshape(-1, 28, 28, 1)\n",
        "\n",
        "print(x_train.shape, y_train.shape, x_test.shape, y_test.shape)\n",
        "\n",
        "batch_size = 512\n",
        "ds = tf.data.Dataset.from_tensor_slices((x_train)).batch(batch_size)\n",
        "ds_len = ds.__len__().numpy()\n",
        "\n",
        "test_ds = tf.data.Dataset.from_tensor_slices((x_test)).batch(batch_size)"
      ]
    },
    {
      "cell_type": "markdown",
      "source": [
        "# Model"
      ],
      "metadata": {
        "id": "ay4XpbeYAIUb"
      }
    },
    {
      "cell_type": "code",
      "source": [
        "class EncoderBlock(nn.Module):\n",
        "    out_channels : int\n",
        "    latent_dim : int\n",
        "\n",
        "    @nn.compact\n",
        "    def __call__(self, data):\n",
        "        result = nn.Sequential([nn.Conv(features=self.out_channels, kernel_size=(3, 3), strides=(2, 2), \n",
        "                                   padding=((1,1), (1,1))),\n",
        "                          nn.BatchNorm(use_running_average=True),\n",
        "                          nn.relu\n",
        "                         ])(data)\n",
        "        flatten_result = result.reshape((result.shape[0], -1))\n",
        "        mu = nn.Dense(self.latent_dim)(flatten_result)\n",
        "        log_var = nn.Dense(self.latent_dim)(flatten_result)\n",
        "\n",
        "        return [result, mu, log_var]\n",
        "\n",
        "class LadderBlock(nn.Module):\n",
        "    latent_dim : int \n",
        "\n",
        "    @nn.compact\n",
        "    def __call__(self, data):\n",
        "      x = nn.Sequential([nn.Dense(self.latent_dim),\n",
        "                        nn.BatchNorm(use_running_average=True)])(data)\n",
        "      mu = nn.Dense(self.latent_dim)(x)\n",
        "      log_var = nn.Dense(self.latent_dim)(x)\n",
        "\n",
        "      return [mu, log_var]\n",
        "      "
      ],
      "metadata": {
        "id": "ZlhX74h1GkaC"
      },
      "execution_count": 5,
      "outputs": []
    },
    {
      "cell_type": "code",
      "source": [
        "from typing import Any\n",
        "\n",
        "class LVAE(nn.Module):\n",
        "    latent_dims: Any\n",
        "    hidden_dims: Any\n",
        "\n",
        "    def setup(self):\n",
        "      self.hd_ = self.hidden_dims \n",
        "\n",
        "      #encoders=====================================\n",
        "      modules = []\n",
        "      for i, h_dim in enumerate(self.hd_):\n",
        "          modules.append(EncoderBlock(h_dim,\n",
        "                                      self.latent_dims[i]\n",
        "                                      ))\n",
        "      self.encoders = modules\n",
        "      \n",
        "      #laders=====================================\n",
        "      modules = []\n",
        "      for i in range(len(self.latent_dims) -1, 0, -1):\n",
        "            modules.append(LadderBlock(self.latent_dims[i-1]))\n",
        "      self.ladders = modules\n",
        "      self.decoder_input = nn.Dense(self.hd_[-1] * 4)\n",
        "\n",
        "      #decoders===================================\n",
        "      self.hd_ = self.hd_[::-1]\n",
        "      modules = []\n",
        "      for i in range(len(self.hd_) - 1):\n",
        "          modules.append(nn.ConvTranspose(features=self.hd_[i + 1], \n",
        "                                          kernel_size=(3, 3), strides=(2, 2), \n",
        "                                          padding=((1,2), (1,2)))\n",
        "                        )\n",
        "      self.decoder = nn.Sequential(modules)\n",
        "\n",
        "      #final layer==================================\n",
        "      self.final_layer = nn.Sequential([nn.ConvTranspose(features=self.hd_[-1], \n",
        "                                                         kernel_size=(3, 3),\n",
        "                                                         strides=(2, 2), \n",
        "                                                         padding=((1,2), (1,2))),\n",
        "                                        nn.BatchNorm(use_running_average=True),\n",
        "                                        nn.relu,\n",
        "                                        nn.Conv(features = 3, kernel_size= (3, 3), strides=(2, 2), padding=((1,1),(1,1))),\n",
        "                                        nn.relu,\n",
        "                                        nn.Conv(features = 3, kernel_size= (3, 3), strides=(1, 1), padding=\"VALID\"),\n",
        "                                        nn.relu,\n",
        "                                        nn.Conv(features = 1, kernel_size= (3, 3),  padding=\"VALID\"),\n",
        "                                        nn.sigmoid\n",
        "      ])\n",
        "\n",
        "      self.hd_ = self.hd_[::-1]\n",
        "\n",
        "\n",
        "    def encode(self, input):\n",
        "      \"\"\"\n",
        "      Encodes the input by passing through the encoder network\n",
        "      and returns the latent codes.\n",
        "      :param input: (Tensor) Input tensor to encoder [N x C x H x W]\n",
        "      :return: (Tensor) List of latent codes\n",
        "      \"\"\"\n",
        "      h = input\n",
        "      # Posterior Parameters\n",
        "      post_params = []\n",
        "\n",
        "      for encoder_block in self.encoders:\n",
        "          h, mu, log_var = encoder_block(h)\n",
        "          #print(mu.shape, log_var.shape)\n",
        "          post_params.append((mu, log_var))\n",
        "\n",
        "      return post_params\n",
        "\n",
        "    def reparameterize(self, mu, logvar):\n",
        "      \"\"\"\n",
        "      Reparameterization trick to sample from N(mu, var) from\n",
        "      N(0,1).\n",
        "      :param mu: (Tensor) Mean of the latent Gaussian [B x D]\n",
        "      :param logvar: (Tensor) Standard deviation of the latent Gaussian [B x D]\n",
        "      :return: (Tensor) [B x D]\n",
        "      \"\"\"\n",
        "      var = jnp.exp(logvar)\n",
        "      sigma = jnp.sqrt(var)\n",
        "      x = mu + sigma * jrand.normal(key, shape=sigma.shape)\n",
        "\n",
        "      return x\n",
        "\n",
        "    def decode(self, z, post_params):\n",
        "      \"\"\"\n",
        "      Maps the given latent codes\n",
        "      onto the image space.\n",
        "      :param z: (Tensor) [B x D]\n",
        "      :return: (Tensor) [B x C x H x W]\n",
        "      \"\"\"\n",
        "      kl_div = 0\n",
        "      post_params.reverse()\n",
        "      for i, ladder_block in enumerate(self.ladders):\n",
        "          mu_e, log_var_e = post_params[i]\n",
        "          mu_t, log_var_t = ladder_block(z)\n",
        "          mu, log_var = self.merge_gauss(mu_e, mu_t, log_var_e, log_var_t)\n",
        "          z = self.reparameterize(mu, log_var)\n",
        "          kl_div += self.compute_kl_divergence(z, (mu, log_var), (mu_e, log_var_e))\n",
        "\n",
        "      result = self.decoder_input(z)\n",
        "      result = jnp.reshape(result, (-1, 2, 2, self.hd_[-1]))\n",
        "      result = self.decoder(result)\n",
        "      return self.final_layer(result), kl_div\n",
        "\n",
        "    def merge_gauss(self, mu_1, mu_2, log_var_1, log_var_2):\n",
        "      p_1 = 1. / (jnp.exp(log_var_1) + 1e-7)\n",
        "      p_2 = 1. / (jnp.exp(log_var_2) + 1e-7)\n",
        "\n",
        "      mu = (mu_1 * p_1 + mu_2 * p_2)/(p_1 + p_2)\n",
        "      log_var = jnp.log(1./(p_1 + p_2))\n",
        "      return [mu, log_var]\n",
        "\n",
        "    def compute_kl_divergence(self, z, q_params, p_params):\n",
        "      mu_q, log_var_q = q_params\n",
        "      mu_p, log_var_p = p_params\n",
        "      kl = (log_var_p - log_var_q) + (jnp.exp(log_var_q) + (mu_q - mu_p)**2)/(2 * jnp.log(log_var_p)) - 0.5\n",
        "      kl = jnp.sum(kl, axis = -1)\n",
        "      return kl\n",
        "\n",
        "    @nn.compact\n",
        "    def __call__(self, data):\n",
        "      post_params = self.encode(data)\n",
        "      mu, log_var = post_params.pop()\n",
        "      z = self.reparameterize(mu, log_var)\n",
        "      recons, kl_div = self.decode(z, post_params)\n",
        "\n",
        "      return [recons, data, [mu, log_var]]\n"
      ],
      "metadata": {
        "id": "BMMJsvWrhcaS"
      },
      "execution_count": 6,
      "outputs": []
    },
    {
      "cell_type": "markdown",
      "source": [
        "# Define TrainState and start Training"
      ],
      "metadata": {
        "id": "lKKZuIAYAWDx"
      }
    },
    {
      "cell_type": "code",
      "source": [
        "import optax\n",
        "from flax.training import train_state\n",
        "\n",
        "class TrainState(train_state.TrainState):\n",
        "    batch_stats : Any\n",
        "\n",
        "\n",
        "lvae = LVAE(latent_dims=[4,8,16,32,128], hidden_dims=[32, 64,128, 256, 512])\n",
        "batch = jnp.ones((16, 28, 28, 1))\n",
        "vars = lvae.init(key, batch)\n",
        "\n",
        "optimizer = optax.adam(learning_rate=0.0005)\n",
        "state = TrainState.create(apply_fn=lvae.apply, params=vars['params'], batch_stats=vars['batch_stats'],\n",
        "                   tx=optimizer)"
      ],
      "metadata": {
        "id": "WKkXWazj0J9V"
      },
      "execution_count": 7,
      "outputs": []
    },
    {
      "cell_type": "code",
      "source": [
        "def compute_metrics(pred, true):\n",
        "  decoder_pred = jnp.clip(pred[0], 0.001, 0.99)\n",
        "  true = jnp.clip(true, 0.001, 0.99)\n",
        "  latent_mu, latent_log_var = pred[2]\n",
        "\n",
        "  recons_loss = -jnp.mean((true*jnp.log(decoder_pred)+(1-true)*jnp.log(1-decoder_pred)), axis=[1,2,3])\n",
        "  latent_loss = -0.5*(jnp.sum(1+latent_log_var-jnp.exp(latent_log_var)-jnp.square(latent_mu), axis=-1))\n",
        "  loss = recons_loss+(latent_loss/784.0)\n",
        "\n",
        "  return {'Reconstruction Loss' : jax.device_get(jnp.mean(recons_loss)),\n",
        "          'Latent Loss' : jax.device_get(jnp.mean(latent_loss)),\n",
        "          'Loss' : jnp.mean(loss)}"
      ],
      "metadata": {
        "id": "NJzMd-zEovec"
      },
      "execution_count": 8,
      "outputs": []
    },
    {
      "cell_type": "code",
      "source": [
        "def calculate_eval(state):\n",
        "  recons = []\n",
        "  true = []\n",
        "  mu = []\n",
        "  log_var = []\n",
        "  for i in test_ds:\n",
        "    pred = state.apply_fn({'params':state.params, 'batch_stats':state.batch_stats}, \n",
        "                    i, mutable=False)\n",
        "    recons.append(jnp.array(pred[0]))\n",
        "    true.append(jnp.array(pred[1]))\n",
        "    mu.append(jnp.array(pred[2][0]))\n",
        "    log_var.append(jnp.array(pred[2][1]))\n",
        "\n",
        "  recons = jnp.concatenate(recons)\n",
        "  true = jnp.concatenate(true)\n",
        "  mu = jnp.concatenate(mu)\n",
        "  log_var = jnp.concatenate(log_var)\n",
        "\n",
        "  return compute_metrics(pred=[recons, true, [mu, log_var]], true=true)"
      ],
      "metadata": {
        "id": "BC-I0uhyw8u3"
      },
      "execution_count": 9,
      "outputs": []
    },
    {
      "cell_type": "code",
      "source": [
        "import sys\n",
        "\n",
        "def train(state, epochs):\n",
        "  def loss_function(params):\n",
        "    y_pred, new_model_state = state.apply_fn({'params':params, 'batch_stats':state.batch_stats}, \n",
        "                                               batch['x'].numpy(), mutable=['batch_stats'])\n",
        "    recons = jnp.clip(y_pred[0], 0.001, 0.99)\n",
        "    input = jnp.clip(y_pred[1], 0.001, 0.99)\n",
        "    mu, log_var = y_pred[2]\n",
        "\n",
        "    recons_loss = -jnp.mean((input*jnp.log(recons)+(1-input)*jnp.log(1-recons)), axis=[1,2,3])\n",
        "    latent_loss = -0.5*(jnp.sum(1+log_var-jnp.exp(log_var)-jnp.square(mu), axis=-1))\n",
        "\n",
        "    loss = recons_loss+(latent_loss/784.0)\n",
        "    loss = jnp.mean(loss, axis=0)\n",
        "    return loss, (new_model_state, y_pred)\n",
        "\n",
        "  grad_fn = jax.value_and_grad(loss_function, has_aux=True)\n",
        "\n",
        "  for e in range(epochs):\n",
        "    for i, ds_x in enumerate(ds):\n",
        "      batch = {}\n",
        "      batch['x'] = ds_x\n",
        "      aux, grad = grad_fn(state.params)\n",
        "      batch_loss, (new_model_state, batch_pred) = aux\n",
        "\n",
        "      state = state.apply_gradients(grads=grad, batch_stats=new_model_state['batch_stats'])\n",
        "      computed_train_metrics = compute_metrics(pred = batch_pred, true = batch['x'].numpy())\n",
        "      sys.stdout.write(\"\\rEpoch:{}/{}   Iteration:{}/{}   Loss:{:.4f}   Reconstruction_loss:{:.4f}   Latent_loss:{:.4f}\".format(e+1, epochs, i+1, ds_len, computed_train_metrics['Loss'], computed_train_metrics['Reconstruction Loss'], computed_train_metrics['Latent Loss']))\n",
        "\n",
        "    print('\\n')\n",
        "    computed_val_metrics = calculate_eval(state)\n",
        "    sys.stdout.write(\"Validation Results:: Epoch:{}  Validation Loss:{:.4f}   Validation Reconstruction_loss:{:.4f}   Validation Latent_loss:{:.4f}\".format(e+1, computed_val_metrics['Loss'], computed_val_metrics['Reconstruction Loss'], computed_val_metrics['Latent Loss']))\n",
        "    print('\\n')\n",
        "\n",
        "  return state"
      ],
      "metadata": {
        "id": "hprlxuEok0xM"
      },
      "execution_count": 10,
      "outputs": []
    },
    {
      "cell_type": "code",
      "source": [
        "num_epochs = 10\n",
        "trained_state = train(state, num_epochs)"
      ],
      "metadata": {
        "colab": {
          "base_uri": "https://localhost:8080/"
        },
        "id": "K6mdumcyk0u3",
        "outputId": "c4fc3a58-a893-443d-f584-31e4d4fe4abd"
      },
      "execution_count": 16,
      "outputs": [
        {
          "output_type": "stream",
          "name": "stdout",
          "text": [
            "Epoch:1/10   Iteration:118/118   Loss:0.3631   Reconstruction_loss:0.3631   Latent_loss:0.0003\n",
            "\n",
            "Validation Results:: Epoch:1  Validation Loss:0.3470   Validation Reconstruction_loss:0.3470   Validation Latent_loss:0.0003\n",
            "\n",
            "Epoch:2/10   Iteration:118/118   Loss:0.3474   Reconstruction_loss:0.3474   Latent_loss:0.0000\n",
            "\n",
            "Validation Results:: Epoch:2  Validation Loss:0.3325   Validation Reconstruction_loss:0.3325   Validation Latent_loss:0.0000\n",
            "\n",
            "Epoch:3/10   Iteration:118/118   Loss:0.3395   Reconstruction_loss:0.3395   Latent_loss:0.0000\n",
            "\n",
            "Validation Results:: Epoch:3  Validation Loss:0.3239   Validation Reconstruction_loss:0.3239   Validation Latent_loss:0.0000\n",
            "\n",
            "Epoch:4/10   Iteration:118/118   Loss:0.3353   Reconstruction_loss:0.3353   Latent_loss:0.0000\n",
            "\n",
            "Validation Results:: Epoch:4  Validation Loss:0.3195   Validation Reconstruction_loss:0.3195   Validation Latent_loss:0.0000\n",
            "\n",
            "Epoch:5/10   Iteration:118/118   Loss:0.3316   Reconstruction_loss:0.3316   Latent_loss:0.0000\n",
            "\n",
            "Validation Results:: Epoch:5  Validation Loss:0.3158   Validation Reconstruction_loss:0.3158   Validation Latent_loss:0.0000\n",
            "\n",
            "Epoch:6/10   Iteration:118/118   Loss:0.3296   Reconstruction_loss:0.3296   Latent_loss:0.0000\n",
            "\n",
            "Validation Results:: Epoch:6  Validation Loss:0.3134   Validation Reconstruction_loss:0.3134   Validation Latent_loss:0.0000\n",
            "\n",
            "Epoch:7/10   Iteration:118/118   Loss:0.3278   Reconstruction_loss:0.3278   Latent_loss:0.0000\n",
            "\n",
            "Validation Results:: Epoch:7  Validation Loss:0.3116   Validation Reconstruction_loss:0.3116   Validation Latent_loss:0.0000\n",
            "\n",
            "Epoch:8/10   Iteration:118/118   Loss:0.3275   Reconstruction_loss:0.3275   Latent_loss:0.0000\n",
            "\n",
            "Validation Results:: Epoch:8  Validation Loss:0.3106   Validation Reconstruction_loss:0.3106   Validation Latent_loss:0.0000\n",
            "\n",
            "Epoch:9/10   Iteration:118/118   Loss:0.3260   Reconstruction_loss:0.3260   Latent_loss:0.0000\n",
            "\n",
            "Validation Results:: Epoch:9  Validation Loss:0.3104   Validation Reconstruction_loss:0.3104   Validation Latent_loss:0.0000\n",
            "\n",
            "Epoch:10/10   Iteration:118/118   Loss:0.3251   Reconstruction_loss:0.3251   Latent_loss:0.0000\n",
            "\n",
            "Validation Results:: Epoch:10  Validation Loss:0.3091   Validation Reconstruction_loss:0.3091   Validation Latent_loss:0.0000\n",
            "\n"
          ]
        }
      ]
    },
    {
      "cell_type": "markdown",
      "source": [
        "# Testing"
      ],
      "metadata": {
        "id": "9o5OlKEt_een"
      }
    },
    {
      "cell_type": "code",
      "source": [
        "import matplotlib.pyplot as plt\n",
        "\n",
        "ix = 2 #change the index(0-9999) if you want to try for a different image\n",
        "fig, ax = plt.subplots(1, 2, figsize=(6, 3))\n",
        "test_img = x_test[ix].reshape(1, 28, 28, 1)\n",
        "pred = trained_state.apply_fn({'params':trained_state.params, 'batch_stats':trained_state.batch_stats},\n",
        "                       jnp.array(test_img), mutable=False)[0]*255.0\n",
        "\n",
        "pred = pred[0].astype(jnp.uint8).reshape(28, 28)\n",
        "ax[1].imshow(pred);\n",
        "ax[1].set_title('Predicted Image');\n",
        "\n",
        "test_img = test_img*255.0\n",
        "test_img = test_img.astype(jnp.uint8).reshape(28, 28)\n",
        "\n",
        "ax[0].imshow(test_img);\n",
        "ax[0].set_title('Real Image');\n",
        "\n",
        "plt.legend();"
      ],
      "metadata": {
        "id": "kXbiXxBo840V",
        "colab": {
          "base_uri": "https://localhost:8080/",
          "height": 233
        },
        "outputId": "ef0ae2c0-3eac-41dc-c84f-a6c1158b4198"
      },
      "execution_count": 17,
      "outputs": [
        {
          "output_type": "stream",
          "name": "stderr",
          "text": [
            "WARNING:matplotlib.legend:No handles with labels found to put in legend.\n"
          ]
        },
        {
          "output_type": "display_data",
          "data": {
            "text/plain": [
              "<Figure size 432x216 with 2 Axes>"
            ],
            "image/png": "[encoded data removed]"
          },
          "metadata": {
            "needs_background": "light"
          }
        }
      ]
    },
    {
      "cell_type": "markdown",
      "source": [
        "# Generate New Images"
      ],
      "metadata": {
        "id": "m_Iof0coBx4l"
      }
    },
    {
      "cell_type": "code",
      "source": [
        "#loading the params of the trained_state as vars\n",
        "vars = {'params':trained_state.params, 'batch_stats':trained_state.batch_stats}"
      ],
      "metadata": {
        "id": "yWe57q_un6PD"
      },
      "execution_count": 18,
      "outputs": []
    },
    {
      "cell_type": "code",
      "source": [
        "latent_dims=[4,8,16,32,128] \n",
        "hidden_dims=[32, 64, 128, 256, 512]\n",
        "\n",
        "decoder_input = nn.Dense(hidden_dims[-1]*4)\n",
        "hd = hidden_dims[::-1]\n",
        "\n",
        "l_vae_ladders = []\n",
        "for i in range(len(latent_dims)-1, 0, -1):\n",
        "    lb_ = LadderBlock(latent_dims[i-1])\n",
        "    l_vae_ladders.append(lb_)\n",
        "\n",
        "l_vae_decoders = []\n",
        "\n",
        "for i in range(len(hidden_dims)-1):\n",
        "    l_vae_decoders.append(nn.ConvTranspose(features=hd[i + 1], \n",
        "                                          kernel_size=(3, 3), strides=(2, 2), \n",
        "                                          padding=((1,2), (1,2)))\n",
        "                        )\n",
        "l_vae_decoder_block = nn.Sequential(l_vae_decoders)\n",
        "\n",
        "final_layer = nn.Sequential([nn.ConvTranspose(features=hd[-1], \n",
        "                                                         kernel_size=(3, 3),\n",
        "                                                         strides=(2, 2), \n",
        "                                                         padding=((1,2), (1,2))),\n",
        "                                        nn.BatchNorm(use_running_average=True),\n",
        "                                        nn.relu,\n",
        "                                        nn.Conv(features = 3, kernel_size= (3, 3), strides=(2, 2), padding=((1,1),(1,1))),\n",
        "                                        nn.relu,\n",
        "                                        nn.Conv(features = 3, kernel_size= (3, 3), strides=(1, 1), padding=\"VALID\"),\n",
        "                                        nn.relu,\n",
        "                                        nn.Conv(features = 1, kernel_size= (3, 3),  padding=\"VALID\"),\n",
        "                                        nn.sigmoid\n",
        "      ])\n",
        "\n",
        "def decode_fn(z, post_params):\n",
        "    post_params.reverse()\n",
        "    for i, ladder_block in enumerate(l_vae_ladders):\n",
        "          mu_e, log_var_e = post_params[i]\n",
        "          mu_t, log_var_t = ladder_block.apply({'params':vars['params']['ladders_{}'.format(i)],\n",
        "                                                'batch_stats':vars['batch_stats']['ladders_{}'.format(i)]}, z)\n",
        "          mu, log_var = lvae.merge_gauss(mu_e, mu_t, log_var_e, log_var_t)\n",
        "          z = lvae.reparameterize(mu, log_var)\n",
        "          \n",
        "    result = decoder_input.apply({'params':vars['params']['decoder_input']}, z)\n",
        "    result = jnp.reshape(result, (-1, 2, 2, hidden_dims[-1]))\n",
        "    result = l_vae_decoder_block.apply({'params':vars['params']['decoder']}, result)\n",
        "    result = final_layer.apply({'params':vars['params']['final_layer'], \n",
        "                   'batch_stats':vars['batch_stats']['final_layer']}, result)\n",
        "    return result\n",
        "\n",
        "def generate(post_params):\n",
        "    mu, log_var = post_params.pop()\n",
        "    z = lvae.reparameterize(mu, log_var)\n",
        "    recons = decode_fn(z, post_params)\n",
        "    recons = recons.reshape(-1, 28, 28)\n",
        "    return recons\n"
      ],
      "metadata": {
        "id": "hU9YkLHvHy8n"
      },
      "execution_count": 19,
      "outputs": []
    },
    {
      "cell_type": "code",
      "source": [
        "from skimage.util import montage\n",
        "\n",
        "reconstructions = generate([( jrand.normal(key, (16, 4)),jrand.normal(key, (16, 4)) ), \n",
        "                            ( jrand.normal(key, (16, 8)),jrand.normal(key, (16, 8)) ),\n",
        "                            ( jrand.normal(key, (16, 16)),jrand.normal(key, (16, 16)) ), \n",
        "                            ( jrand.normal(key, (16, 32)),jrand.normal(key, (16, 32)) ), \n",
        "                            ( jrand.normal(key, (16, 128)),jrand.normal(key, (16, 128)) )])\n",
        "plt.imshow(montage(reconstructions, grid_shape=(4, 4)))\n",
        "plt.show()"
      ],
      "metadata": {
        "id": "_Cp3PFNgGr7v",
        "colab": {
          "base_uri": "https://localhost:8080/",
          "height": 303
        },
        "outputId": "db2d1ccd-2b64-46ef-fe98-68db3c55b38b"
      },
      "execution_count": 20,
      "outputs": [
        {
          "output_type": "stream",
          "name": "stdout",
          "text": [
            "(16, 2048)\n",
            "(16, 2, 2, 512)\n"
          ]
        },
        {
          "output_type": "display_data",
          "data": {
            "text/plain": [
              "<Figure size 432x288 with 1 Axes>"
            ],
            "image/png": "[encoded data removed]"
          },
          "metadata": {
            "needs_background": "light"
          }
        }
      ]
    },
    {
      "cell_type": "markdown",
      "source": [
        "The generated images are just a shadow of what they could become! But you can still recognize some of them and what the LVAE is trying to generate. For more improvements you can train for longer."
      ],
      "metadata": {
        "id": "TFNDL6mCHj8l"
      }
    },
    {
      "cell_type": "code",
      "source": [
        ""
      ],
      "metadata": {
        "id": "XXrxsvsKQB4n"
      },
      "execution_count": 15,
      "outputs": []
    }
  ],
  "metadata": {
    "accelerator": "GPU",
    "colab": {
      "name": "Ladder_Variational_Autoencoders_jax.ipynb",
      "provenance": [],
      "collapsed_sections": []
    },
    "kernelspec": {
      "display_name": "Python 3",
      "name": "python3"
    },
    "language_info": {
      "name": "python"
    }
  },
  "nbformat": 4,
  "nbformat_minor": 0
}